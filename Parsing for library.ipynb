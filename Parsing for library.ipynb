{
 "cells": [
  {
   "cell_type": "markdown",
   "metadata": {},
   "source": [
    "**Так как наша библиотека совсем пуста на данный момент, заполним ее небольшим количеством наиболее популярных книг с сайта [\"100 лучших книг\"](https://www.100bestbooks.ru/)**"
   ]
  },
  {
   "cell_type": "code",
   "execution_count": 15,
   "metadata": {},
   "outputs": [],
   "source": [
    "import requests                      # библиотека для отправки запросов\n",
    "import numpy as np                   # библиотека матричных и векторных вычислений\n",
    "import pandas as pd                  # библиотека для работы с табличными данными\n",
    "import time                          # библиотека для управления временем \n",
    "from tqdm import tqdm_notebook       # индикатор выполнения заданного процесса\n",
    "from fake_useragent import UserAgent # используем для замены агента\n",
    "from bs4 import BeautifulSoup        # библиотека для обрабортки данных с веб-ресурсов\n",
    "import json\n",
    "\n",
    "import warnings\n",
    "warnings.filterwarnings(\"ignore\")"
   ]
  },
  {
   "cell_type": "code",
   "execution_count": 16,
   "metadata": {},
   "outputs": [],
   "source": [
    "# итерируемся по страницам сайта\n",
    "def parsing_pages(page_number):\n",
    "    \"\"\"\n",
    "    Функция для получения данных о книгах (название и автора книги)\n",
    "    \"\"\"\n",
    "    # задаем ссылку на страницу поиска\n",
    "    page_link = 'https://www.100bestbooks.ru/index.php?page={}'.format(page_number)\n",
    "    # запрашиваем данные\n",
    "    response = requests.get(page_link, headers={'User-Agent': UserAgent().chrome})\n",
    "    if not response.ok:\n",
    "        # если сервер нам отказал, сделаем еще пару попыток\n",
    "        for i in range(3):\n",
    "            time.sleep(5)\n",
    "            parsing_pages(page_number)\n",
    "\n",
    "    # получаем содержимое(контент в формате html) страницы и переводим в объект BeautifulSoup\n",
    "    html = response.content\n",
    "    soup = BeautifulSoup(html,'html.parser')\n",
    "    table = soup.find('table', attrs={'class': 'table-rating'})\n",
    "    return table"
   ]
  },
  {
   "cell_type": "code",
   "execution_count": 17,
   "metadata": {},
   "outputs": [],
   "source": [
    "# находим по тегу информацию об авторе и названии книги и добавляем их в соответствующие списки\n",
    "def get_author_title(table):\n",
    "    objects = table.find_all('span', attrs={'itemprop':'name'})\n",
    "    authors, book_titles, years = [], [], []\n",
    "    for i, item in enumerate(objects):  # проходим по всем найденным объектам\n",
    "        if i % 2 == 0:                  # на четных позициях, начиная с 0 - автор\n",
    "            authors.append(item.text)   # извлекаем текстовое содержание\n",
    "        else:                           # на нечетных, начиная с 1 - название книги\n",
    "            book_titles.append(item.text)\n",
    "    \n",
    "    years_links = table.find_all('td', attrs={'class':'vline-year'})\n",
    "    for i in years_links:\n",
    "        years.append(i.text)\n",
    "\n",
    "    return authors, book_titles, years"
   ]
  },
  {
   "cell_type": "code",
   "execution_count": 18,
   "metadata": {},
   "outputs": [
    {
     "data": {
      "application/vnd.jupyter.widget-view+json": {
       "model_id": "0010d62a1aa84b7ea44cce15b12e1a1b",
       "version_major": 2,
       "version_minor": 0
      },
      "text/plain": [
       "Pages:   0%|          | 0/10 [00:00<?, ?it/s]"
      ]
     },
     "metadata": {},
     "output_type": "display_data"
    },
    {
     "data": {
      "text/html": [
       "<div>\n",
       "<style scoped>\n",
       "    .dataframe tbody tr th:only-of-type {\n",
       "        vertical-align: middle;\n",
       "    }\n",
       "\n",
       "    .dataframe tbody tr th {\n",
       "        vertical-align: top;\n",
       "    }\n",
       "\n",
       "    .dataframe thead th {\n",
       "        text-align: right;\n",
       "    }\n",
       "</style>\n",
       "<table border=\"1\" class=\"dataframe\">\n",
       "  <thead>\n",
       "    <tr style=\"text-align: right;\">\n",
       "      <th></th>\n",
       "      <th>ID</th>\n",
       "      <th>Название книги</th>\n",
       "      <th>Автор книги</th>\n",
       "      <th>Год издания</th>\n",
       "      <th>Статус</th>\n",
       "    </tr>\n",
       "  </thead>\n",
       "  <tbody>\n",
       "    <tr>\n",
       "      <th>0</th>\n",
       "      <td>1</td>\n",
       "      <td>Мастер и Маргарита</td>\n",
       "      <td>Михаил Булгаков</td>\n",
       "      <td>1929-1940</td>\n",
       "      <td>в наличии</td>\n",
       "    </tr>\n",
       "    <tr>\n",
       "      <th>1</th>\n",
       "      <td>2</td>\n",
       "      <td>Собачье сердце</td>\n",
       "      <td>Михаил Булгаков</td>\n",
       "      <td>1925</td>\n",
       "      <td>в наличии</td>\n",
       "    </tr>\n",
       "    <tr>\n",
       "      <th>2</th>\n",
       "      <td>3</td>\n",
       "      <td>Двенадцать стульев</td>\n",
       "      <td>Илья Ильф, Евгений Петров</td>\n",
       "      <td>1928</td>\n",
       "      <td>в наличии</td>\n",
       "    </tr>\n",
       "    <tr>\n",
       "      <th>3</th>\n",
       "      <td>4</td>\n",
       "      <td>Мёртвые души</td>\n",
       "      <td>Николай Гоголь</td>\n",
       "      <td>1842</td>\n",
       "      <td>в наличии</td>\n",
       "    </tr>\n",
       "    <tr>\n",
       "      <th>4</th>\n",
       "      <td>5</td>\n",
       "      <td>Граф Монте-Кристо</td>\n",
       "      <td>Александр Дюма</td>\n",
       "      <td>1844-1845</td>\n",
       "      <td>в наличии</td>\n",
       "    </tr>\n",
       "  </tbody>\n",
       "</table>\n",
       "</div>"
      ],
      "text/plain": [
       "   ID      Название книги                Автор книги Год издания     Статус\n",
       "0   1  Мастер и Маргарита            Михаил Булгаков   1929-1940  в наличии\n",
       "1   2      Собачье сердце            Михаил Булгаков        1925  в наличии\n",
       "2   3  Двенадцать стульев  Илья Ильф, Евгений Петров        1928  в наличии\n",
       "3   4        Мёртвые души             Николай Гоголь        1842  в наличии\n",
       "4   5   Граф Монте-Кристо             Александр Дюма   1844-1845  в наличии"
      ]
     },
     "metadata": {},
     "output_type": "display_data"
    },
    {
     "data": {
      "text/plain": [
       "(1000, 5)"
      ]
     },
     "metadata": {},
     "output_type": "display_data"
    }
   ],
   "source": [
    "# пустые списки для сохранения полученных данных\n",
    "authors_all=[]\n",
    "titles_all=[]\n",
    "years_all=[]\n",
    "for page_number in tqdm_notebook(range(1, 11), desc='Pages'): # для начала возьмем 10 страниц с данного сайта\n",
    "    # применяем функцию для получения данных\n",
    "    soup = parsing_pages(page_number)  \n",
    "    # если вдруг данные не собираются с первого раза\n",
    "    for i in range(3):\n",
    "        try:\n",
    "            # собираем данные\n",
    "            authors, book_titles, years = get_author_title(soup)\n",
    "            break\n",
    "        except:\n",
    "            # Иначе, пробуем еще несколько раз, пока не закончатся попытки\n",
    "            time.sleep(3)\n",
    "            print('Повторим попытку парсинга')\n",
    "            continue\n",
    "        # сохраняем данные с каждой странице в соотвествующие списки\n",
    "    authors_all.extend(authors) \n",
    "    titles_all.extend(book_titles)\n",
    "    years_all.extend(years)\n",
    "\n",
    "\"\"\"\n",
    "Создаем таблицу с полученными данными: \n",
    "id - пронумеруем весь список, начиная с 1\n",
    "title - сохраняем значения из titles_all\n",
    "author - сохраняем значения из authors_all\n",
    "year - к сожалению, данная информация редко размещается заголовочных данных книг, потому что книги переиздаются\n",
    "status - для начала поставим для всех одинаковый статус \"в наличии\"\n",
    "\"\"\"\n",
    "books = pd.DataFrame({'ID': range(1, len(titles_all)+1), 'Название книги': titles_all, \n",
    "                                      'Автор книги': authors_all, 'Год издания': years_all, 'Статус': 'в наличии'})\n",
    "books['Год издания'] = books['Год издания'].apply(lambda x: np.NaN if x=='\\xa0' else x)\n",
    "display(books.head(), books.shape)"
   ]
  },
  {
   "cell_type": "code",
   "execution_count": 19,
   "metadata": {},
   "outputs": [],
   "source": [
    "# сохраним таблицу в текстовый файл\n",
    "books.to_csv('library.csv', sep=',', index=False)"
   ]
  },
  {
   "cell_type": "code",
   "execution_count": 20,
   "metadata": {},
   "outputs": [],
   "source": [
    "books = pd.read_csv('library.csv', sep=',')"
   ]
  },
  {
   "cell_type": "markdown",
   "metadata": {},
   "source": [
    "Можно загрузить сразу в базу данных, например, в PostgreSQL"
   ]
  },
  {
   "cell_type": "code",
   "execution_count": 21,
   "metadata": {},
   "outputs": [],
   "source": [
    "# import psycopg2\n",
    "# connection = psycopg2.connect(user=\"postgres\",\n",
    "#                               host=\"localhost\",\n",
    "#                               password=password,\n",
    "#                               port=\"5432\",\n",
    "#                               database=\"postgres\",\n",
    "# )\n",
    "\n",
    "# connection.autocommit = True\n",
    "# \"\"\"\n",
    "# Предварительно необходимо создать таблицу books в базе данных.\n",
    "# \"\"\"\n",
    "# def save_to_db(output_list):\n",
    "#     with connection.cursor() as cursor:\n",
    "#         for book in books:\n",
    "#             cursor.execute(\"\"\"\n",
    "#             INSERT INTO books (id, title, author, year, status) VALUES (\n",
    "#             %s, %s, %s, %s, %s);\n",
    "#             \"\"\",\n",
    "#             (book['id'], book['title'], book['author'], book['year'], book['status']))"
   ]
  }
 ],
 "metadata": {
  "kernelspec": {
   "display_name": "anaconda3",
   "language": "python",
   "name": "python3"
  },
  "language_info": {
   "codemirror_mode": {
    "name": "ipython",
    "version": 3
   },
   "file_extension": ".py",
   "mimetype": "text/x-python",
   "name": "python",
   "nbconvert_exporter": "python",
   "pygments_lexer": "ipython3",
   "version": "3.11.7"
  }
 },
 "nbformat": 4,
 "nbformat_minor": 2
}
